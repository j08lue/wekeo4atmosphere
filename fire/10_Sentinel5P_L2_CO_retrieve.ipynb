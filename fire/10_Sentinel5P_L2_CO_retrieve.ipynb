{
 "cells": [
  {
   "cell_type": "markdown",
   "metadata": {
    "heading_collapsed": "false"
   },
   "source": [
    "<img src='../img/LogoWekeo_Copernicus_RGB_0.png' alt='Logo EU Copernicus EUMETSAT' align='right' width='10%'></img>"
   ]
  },
  {
   "cell_type": "markdown",
   "metadata": {},
   "source": [
    "# Copernicus Sentinel-5 Precursor (Sentinel-5P) Level 2 Carbon Monoxide - Retrieve"
   ]
  },
  {
   "cell_type": "markdown",
   "metadata": {},
   "source": [
    "The example below illustrates step-by-step how the Copernicus Sentinel-5P Level 2 Carbon Monoxide (CO) data product can be retrieved from WEkEO with the help of the [WEkEO HDA API client](https://github.com/ecmwf/hda). The notebook aims to retrieve Sentinel-5P Level 2 CO data from 12. August 2021 over Siberia.\n",
    "\n",
    "The HDA API workflow is a six-step process:\n",
    " - [1. Install the WEkEO HDA API client](#wekeo_hda_install)\n",
    " - [2. Search for datasets on WEkEO](#wekeo_search)\n",
    " - [3. Get the API request](#wekeo_api_request)\n",
    " - [4. Configure the WEkEO API Authentication](#wekeo_hda_auth)\n",
    " - [5. Load data descriptor file and request data](#wekeo_json)\n",
    " - [6. Download requested data](#wekeo_download)\n",
    " \n",
    "All steps have to be performed in order to be able to retrieve data from WEkEO."
   ]
  },
  {
   "cell_type": "markdown",
   "metadata": {},
   "source": [
    "#### Load required libraries"
   ]
  },
  {
   "cell_type": "code",
   "execution_count": 9,
   "metadata": {},
   "outputs": [],
   "source": [
    "import json"
   ]
  },
  {
   "cell_type": "markdown",
   "metadata": {},
   "source": [
    "<hr>"
   ]
  },
  {
   "cell_type": "markdown",
   "metadata": {},
   "source": [
    "### <a id='wekeo_hda_install'></a>1. Install the WEkEO HDA API client"
   ]
  },
  {
   "cell_type": "markdown",
   "metadata": {},
   "source": [
    "The [WEkEO HDA API client](https://github.com/ecmwf/hda) is a Python library that can be used to search and download products using the Harmonized Data Access WEkEO API. You can install the WEkEO HDA API client via with the following command:\n",
    "\n",
    "*Note: once the package has successfully been installed, you might need to restart the kernel*."
   ]
  },
  {
   "cell_type": "code",
   "execution_count": null,
   "metadata": {},
   "outputs": [],
   "source": [
    "pip install -U hda"
   ]
  },
  {
   "cell_type": "markdown",
   "metadata": {},
   "source": [
    "#### Load the WEkEO HDA API client"
   ]
  },
  {
   "cell_type": "markdown",
   "metadata": {},
   "source": [
    "Once the package is installed, you can import it with the command `import hda`."
   ]
  },
  {
   "cell_type": "code",
   "execution_count": 2,
   "metadata": {},
   "outputs": [],
   "source": [
    "import hda"
   ]
  },
  {
   "cell_type": "markdown",
   "metadata": {},
   "source": [
    "<hr>"
   ]
  },
  {
   "cell_type": "markdown",
   "metadata": {},
   "source": [
    "### <a id='wekeo_search'></a>2. Search for datasets on WEkEO"
   ]
  },
  {
   "cell_type": "markdown",
   "metadata": {},
   "source": [
    "Under [WEkEO DATA](https://www.wekeo.eu/data), you can search all datasets available on WEkEO. To add additional layers, you have to click on the `+` sign, which opens the `Catalogue` interface.\n",
    "There are two search options:<br> \n",
    "- a `free keyword search`, and \n",
    "- a pre-defined `predefined keyword search`, that helps to filter the data based on `area`, `platform`, `data provider` and more.<br> \n",
    "\n",
    "Under `PLATFORM`, you can select *`Sentinel-5P`* and retrieve the results. You can either directly add the data to the map or you can click on `Details`, which opens a dataset description.\n",
    "\n",
    "When you click on `Add to map...`, a window opens where you can select one specific variable of Sentinel-5P TROPOMI. \n",
    "\n",
    "<br>\n",
    "\n",
    "<img src='../img/wekeo_interface_s5p_1.png' width='80%' />"
   ]
  },
  {
   "cell_type": "markdown",
   "metadata": {},
   "source": [
    "### <a id='wekeo_api_request'></a>3. Get the API request"
   ]
  },
  {
   "cell_type": "markdown",
   "metadata": {},
   "source": [
    "When a layer is added to the map, you can select the download icon, which opens an interface that allows you to tailor your data request.\n",
    "For Sentinel-5P, the following information can be selected:\n",
    "* `Bounding box`\n",
    "* `Sensing start stop time`\n",
    "* `Processing level`\n",
    "* `Product type`, and\n",
    "* `Timeliness`.\n",
    "\n",
    "Once you made your selection, you can either directly request the data or you can click on `Show API request`, which opens a window with the HDA API request for the specific data selection.\n",
    "\n",
    "\n",
    "<br>\n",
    "\n",
    "\n",
    "<img src='../img/wekeo_interface_s5p_2.png' width='80%' />\n",
    "<br>"
   ]
  },
  {
   "cell_type": "markdown",
   "metadata": {},
   "source": [
    "`Copy` the API request and save it as a `JSON` file. We did the same and you can open the `data descriptor` file for Sentinel-5P [here](./s5p_data_descriptor.json)."
   ]
  },
  {
   "cell_type": "markdown",
   "metadata": {},
   "source": [
    "### <a id='wekeo_hda_auth'></a>4. Configure the WEkEO API Authentication"
   ]
  },
  {
   "cell_type": "markdown",
   "metadata": {},
   "source": [
    "As a first step, make sure to register via the the [WEkEO registration page](https://my.wekeo.eu/web/guest/user-registration)."
   ]
  },
  {
   "cell_type": "markdown",
   "metadata": {},
   "source": [
    "In the next step, you can use your username and password and set your credentials. The HDA client requires your authentication to WEkEO. You can set your credentials with the function `hda.Configuration()`."
   ]
  },
  {
   "cell_type": "code",
   "execution_count": 4,
   "metadata": {
    "tags": []
   },
   "outputs": [],
   "source": [
    "c = hda.Client(hda.Configuration(url=\"https://wekeo-broker.apps.mercator.dpi.wekeo.eu/databroker\",\n",
    "                                 user=\"jwagemann\",\n",
    "                                 password=\"91db7389e023\"))"
   ]
  },
  {
   "cell_type": "code",
   "execution_count": null,
   "metadata": {},
   "outputs": [],
   "source": [
    "c = hda.Client(hda.Configuration(url=\"https://wekeo-broker.apps.mercator.dpi.wekeo.eu/databroker\",\n",
    "                                 user=\"#################\",\n",
    "                                 password=\"###############\"))"
   ]
  },
  {
   "cell_type": "markdown",
   "metadata": {},
   "source": [
    "<br> "
   ]
  },
  {
   "cell_type": "markdown",
   "metadata": {},
   "source": [
    "### <a id='wekeo_json'></a>5. Load data descriptor file and request data"
   ]
  },
  {
   "cell_type": "markdown",
   "metadata": {},
   "source": [
    "The Harmonised Data Access API can read your data request from a `JSON` file. In this JSON-based file, you can describe the dataset you are interested in downloading. The file is in principle a dictionary; it's keys can be described as follows:\n",
    "- `datasetID`: the dataset's collection ID\n",
    "- `stringChoiceValues`: type of dataset, e.g. 'processing level' or 'product type'\n",
    "- `dataRangeSelectValues`: time period you would like to retrieve data\n",
    "- `boundingBoxValues`: optional to specify a subset of a global field\n",
    "\n",
    "You can load the `JSON` file with `json.load()`."
   ]
  },
  {
   "cell_type": "code",
   "execution_count": 10,
   "metadata": {},
   "outputs": [
    {
     "data": {
      "text/plain": [
       "{'datasetId': 'EO:ESA:DAT:SENTINEL-5P:TROPOMI',\n",
       " 'boundingBoxValues': [{'name': 'bbox',\n",
       "   'bbox': [62.57464843750014,\n",
       "    31.323293562266347,\n",
       "    117.59112304687507,\n",
       "    57.68403323201619]}],\n",
       " 'dateRangeSelectValues': [{'name': 'position',\n",
       "   'start': '2021-08-12T03:00:00.000Z',\n",
       "   'end': '2021-08-12T06:00:00.000Z'}],\n",
       " 'stringChoiceValues': [{'name': 'productType', 'value': 'L2__CO____'},\n",
       "  {'name': 'processingLevel', 'value': 'L2'}]}"
      ]
     },
     "execution_count": 10,
     "metadata": {},
     "output_type": "execute_result"
    }
   ],
   "source": [
    "with open('./atmosphere/fire/s5p_data_descriptor.json', 'r') as f:\n",
    "    data = json.load(f)\n",
    "data"
   ]
  },
  {
   "cell_type": "markdown",
   "metadata": {},
   "source": [
    "<br>"
   ]
  },
  {
   "cell_type": "markdown",
   "metadata": {},
   "source": [
    "### <a id='wekeo_download'></a>6. Download requested data"
   ]
  },
  {
   "cell_type": "markdown",
   "metadata": {},
   "source": [
    "As a final step, you can use directly the client `c` to first search for available datasets with the function `search`."
   ]
  },
  {
   "cell_type": "code",
   "execution_count": 11,
   "metadata": {},
   "outputs": [
    {
     "name": "stdout",
     "output_type": "stream",
     "text": [
      "SearchResults[items=5,volume=203.9MB,jobId=kOyJMYgdGRn8_zoYBet6alcepA8]\n"
     ]
    }
   ],
   "source": [
    "matches = c.search(data)\n",
    "print(matches)"
   ]
  },
  {
   "cell_type": "markdown",
   "metadata": {},
   "source": [
    "The dataset search above resulted in five datasets found. You can download the datasets with the function `download`. You can also specify a folder in which the datasets shall be downloaded to."
   ]
  },
  {
   "cell_type": "code",
   "execution_count": null,
   "metadata": {},
   "outputs": [],
   "source": [
    "matches.download('./data/')"
   ]
  },
  {
   "cell_type": "markdown",
   "metadata": {
    "heading_collapsed": "false"
   },
   "source": [
    "<br>"
   ]
  },
  {
   "cell_type": "markdown",
   "metadata": {},
   "source": [
    "Go to the next notebook ([11_Sentinel5P_L2_CO_explore](./11_Sentinel5P_L2_CO_explore.ipynb)) to see how you can load and visualise Sentinel-5P Level 2 Carbon Monoxide data."
   ]
  },
  {
   "cell_type": "markdown",
   "metadata": {
    "heading_collapsed": "false"
   },
   "source": [
    "<hr>"
   ]
  }
 ],
 "metadata": {
  "author": "Julia Wagemann",
  "description": "This notebook shows you how to retrieve Sentinel-5P TROPOMI Level 2 Carbon Monoxide data with the HDA API.",
  "image": "../img/img_01.png",
  "title": "Retrieve Sentinel-5P TROPOMI Level 2 Carbon Monoxide data",
  "services":{
       "wekeo" :{
           "git" : {
              "link": "https://github.com/wekeo/wekeo4atmosphere/blob/main/fire/10_Sentinel5P_L2_CO_retrieve.ipynb",
              "service_contact": "ops@eumetsat.int",
              "service_provider": "EUMETSAT"},
           "jupyter": {
              "link": "https://jupyterhub-wekeo.apps.eumetsat.dpi.wekeo.eu/hub/user-redirect/lab/tree/public/wekeo4atmosphere/fire/10_Sentinel5P_L2_CO_retrieve.ipynb",
              "service_contact": "ops@eumetsat.int",
              "service_provider": "EUMETSAT"}
                 }
              },
 "tags": {
   "domain": "Atmosphere",
   "subtheme":"Fire",
   "service": "ESA",
   "platform": "Sentinel-5P",
   "sensor": "TROPOMI",
   "tags": "Carbon monoxide concentration (total column)"
  },
 "kernelspec": {
   "display_name": "Python 3 (ipykernel)",
   "language": "python",
   "name": "python3"
  },
  "language_info": {
   "codemirror_mode": {
    "name": "ipython",
    "version": 3
   },
   "file_extension": ".py",
   "mimetype": "text/x-python",
   "name": "python",
   "nbconvert_exporter": "python",
   "pygments_lexer": "ipython3",
   "version": "3.8.15"
  }
 },
 "nbformat": 4,
 "nbformat_minor": 4
}
