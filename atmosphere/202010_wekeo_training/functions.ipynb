{
 "cells": [
  {
   "cell_type": "markdown",
   "metadata": {
    "heading_collapsed": "false"
   },
   "source": [
    "<img src='./img/LogoWekeo_Copernicus_RGB_0.png' alt='Logo EU Copernicus EUMETSAT' align='right' width='20%'></img>"
   ]
  },
  {
   "cell_type": "markdown",
   "metadata": {
    "heading_collapsed": "false"
   },
   "source": [
    "<br>"
   ]
  },
  {
   "cell_type": "markdown",
   "metadata": {},
   "source": [
    "# Functions"
   ]
  },
  {
   "cell_type": "markdown",
   "metadata": {},
   "source": [
    "This notebook lists all `functions` that are defined and used throughout the `LTPy course`.\n",
    "The following functions are listed:\n",
    "\n",
    "**[Data loading and re-shaping functions](#load_reshape)**\n",
    "* [generate_geographical_subset](#generate_geographical_subset)\n",
    "* [select_channels_for_rgb](#rgb_channels)\n",
    "* [normalize](#normalize)\n",
    "\n",
    "**[Data visualization functions](#visualization)**\n",
    "* [visualize_pcolormesh](#visualize_pcolormesh)\n",
    "* [visualize_s3_pcolormesh](#visualize_s3_pcolormesh)\n"
   ]
  },
  {
   "cell_type": "markdown",
   "metadata": {},
   "source": [
    "<hr>"
   ]
  },
  {
   "cell_type": "markdown",
   "metadata": {},
   "source": [
    "#### Load required libraries"
   ]
  },
  {
   "cell_type": "code",
   "execution_count": 1,
   "metadata": {
    "heading_collapsed": "false"
   },
   "outputs": [],
   "source": [
    "import os\n",
    "from matplotlib import pyplot as plt\n",
    "\n",
    "import xarray as xr\n",
    "from netCDF4 import Dataset\n",
    "import numpy as np\n",
    "import glob\n",
    "\n",
    "from matplotlib import pyplot as plt\n",
    "import matplotlib.colors\n",
    "from matplotlib.colors import LogNorm\n",
    "import cartopy.crs as ccrs\n",
    "from cartopy.mpl.gridliner import LONGITUDE_FORMATTER, LATITUDE_FORMATTER\n",
    "import cartopy.feature as cfeature\n",
    "\n",
    "import warnings\n",
    "warnings.simplefilter(action = \"ignore\", category = RuntimeWarning)\n",
    "warnings.simplefilter(action = \"ignore\", category = FutureWarning)"
   ]
  },
  {
   "cell_type": "markdown",
   "metadata": {},
   "source": [
    "<hr>"
   ]
  },
  {
   "cell_type": "markdown",
   "metadata": {},
   "source": [
    "## <a id=\"load_reshape\"></a>Data loading and re-shaping functions"
   ]
  },
  {
   "cell_type": "markdown",
   "metadata": {
    "heading_collapsed": "false"
   },
   "source": [
    "### <a id='generate_geographical_subset'></a>`generate_geographical_subset`"
   ]
  },
  {
   "cell_type": "code",
   "execution_count": 1,
   "metadata": {
    "heading_collapsed": "false"
   },
   "outputs": [],
   "source": [
    "def generate_geographical_subset(xarray, latmin, latmax, lonmin, lonmax):\n",
    "    \"\"\" \n",
    "    Generates a geographical subset of a xarray DataArray and shifts the longitude grid from a 0-360 to a -180 to 180 deg grid.\n",
    "    \n",
    "    Parameters:\n",
    "        xarray (xarray DataArray): a xarray DataArray with latitude and longitude coordinates\n",
    "        latmin, latmax, lonmin, lonmax (int): boundaries of the geographical subset\n",
    "        \n",
    "    Returns:\n",
    "        Geographical subset of a xarray DataArray.\n",
    "    \"\"\"   \n",
    "    return xarray.where((xarray.latitude < latmax) & (xarray.latitude > latmin) & (xarray.longitude < lonmax) & (xarray.longitude > lonmin),drop=True)"
   ]
  },
  {
   "cell_type": "markdown",
   "metadata": {},
   "source": [
    "### <a id='rgb_channels'></a> `select_channels_for_rgb`"
   ]
  },
  {
   "cell_type": "code",
   "execution_count": null,
   "metadata": {},
   "outputs": [],
   "source": [
    "def select_channels_for_rgb(xarray, red_channel, green_channel, blue_channel):\n",
    "    \"\"\" \n",
    "    Selects the channels / bands of a multi-dimensional xarray for red, green and blue composites.\n",
    "    \n",
    "    Parameters:\n",
    "        xarray(xarray Dataset): xarray Dataset object that stores the different channels / bands.\n",
    "        red_channel(str): Name of red channel to be selected\n",
    "        green_channel(str): Name of green channel to be selected\n",
    "        blue_channel(str): Name of blue channel to be selected\n",
    "\n",
    "    Returns:\n",
    "        Three xarray DataArray objects with selected channels / bands\n",
    "    \"\"\"  \n",
    "    return xarray[red_channel], xarray[green_channel], xarray[blue_channel]"
   ]
  },
  {
   "cell_type": "markdown",
   "metadata": {},
   "source": [
    "### <a id='normalize'></a> `normalize`"
   ]
  },
  {
   "cell_type": "code",
   "execution_count": null,
   "metadata": {},
   "outputs": [],
   "source": [
    "def normalize(array):\n",
    "    \"\"\" \n",
    "    Normalizes a numpy array / xarray DataArray object value to values between 0 and 1.\n",
    "    \n",
    "    Parameters:\n",
    "        xarray(numpy array or xarray DataArray): xarray DataArray or numpy array object.\n",
    "\n",
    "    Returns:\n",
    "        Normalized array\n",
    "    \"\"\" \n",
    "    array_min, array_max = array.min(), array.max()\n",
    "    return ((array - array_min)/(array_max - array_min))"
   ]
  },
  {
   "cell_type": "markdown",
   "metadata": {},
   "source": [
    "<hr>"
   ]
  },
  {
   "cell_type": "markdown",
   "metadata": {},
   "source": [
    "## <a id=\"visualization\"></a>Data visualization functions"
   ]
  },
  {
   "cell_type": "markdown",
   "metadata": {
    "heading_collapsed": "false"
   },
   "source": [
    "### <a id='visualize_pcolormesh'></a>`visualize_pcolormesh`"
   ]
  },
  {
   "cell_type": "code",
   "execution_count": 3,
   "metadata": {
    "heading_collapsed": "false"
   },
   "outputs": [],
   "source": [
    "def visualize_pcolormesh(data_array, longitude, latitude, projection, color_scale, unit, long_name, vmin, vmax, \n",
    "                         set_global=True, lonmin=-180, lonmax=180, latmin=-90, latmax=90):\n",
    "    \"\"\" \n",
    "    Visualizes a xarray.DataArray with matplotlib's pcolormesh function.\n",
    "    \n",
    "    Parameters:\n",
    "        data_array(xarray.DataArray): xarray.DataArray holding the data values\n",
    "        longitude(xarray.DataArray): xarray.DataArray holding the longitude values\n",
    "        latitude(xarray.DataArray): xarray.DataArray holding the latitude values\n",
    "        projection(str): a projection provided by the cartopy library, e.g. ccrs.PlateCarree()\n",
    "        color_scale(str): string taken from matplotlib's color ramp reference\n",
    "        unit(str): the unit of the parameter, taken from the NetCDF file if possible\n",
    "        long_name(str): long name of the parameter, taken from the NetCDF file if possible\n",
    "        vmin(int): minimum number on visualisation legend\n",
    "        vmax(int): maximum number on visualisation legend\n",
    "        set_global(boolean): optional kwarg, default is True\n",
    "        lonmin,lonmax,latmin,latmax(float): optional kwarg, sets geographic extent if set_global=False\n",
    "\n",
    "    \"\"\"\n",
    "    fig=plt.figure(figsize=(20, 10))\n",
    "\n",
    "    ax = plt.axes(projection=projection)\n",
    "   \n",
    "    img = plt.pcolormesh(longitude, latitude, data_array, \n",
    "                        cmap=plt.get_cmap(color_scale), transform=ccrs.PlateCarree(),\n",
    "                        vmin=vmin,\n",
    "                        vmax=vmax,\n",
    "                        shading='auto')\n",
    "\n",
    "    ax.add_feature(cfeature.BORDERS, edgecolor='black', linewidth=1)\n",
    "    ax.add_feature(cfeature.COASTLINE, edgecolor='black', linewidth=1)\n",
    "\n",
    "    if (projection==ccrs.PlateCarree()):\n",
    "        ax.set_extent([lonmin, lonmax, latmin, latmax], projection)\n",
    "        gl = ax.gridlines(draw_labels=True, linestyle='--')\n",
    "        gl.top_labels=False\n",
    "        gl.right_labels=False\n",
    "        gl.xformatter=LONGITUDE_FORMATTER\n",
    "        gl.yformatter=LATITUDE_FORMATTER\n",
    "        gl.xlabel_style={'size':12}\n",
    "        gl.ylabel_style={'size':12}\n",
    "\n",
    "    if(set_global):\n",
    "        ax.set_global()\n",
    "        ax.gridlines()\n",
    "\n",
    "    cbar = fig.colorbar(img, ax=ax, orientation='horizontal', fraction=0.04, pad=0.1)\n",
    "    cbar.set_label(unit, fontsize=12)\n",
    "    cbar.ax.tick_params(labelsize=12)\n",
    "    ax.set_title(long_name, fontsize=18, pad=20.0)\n",
    "\n",
    " #   plt.show()\n",
    "    return fig, ax"
   ]
  },
  {
   "cell_type": "markdown",
   "metadata": {},
   "source": [
    "### <a id='visualize_s3_pcolormesh'></a>`visualize_s3_pcolormesh`"
   ]
  },
  {
   "cell_type": "code",
   "execution_count": 1,
   "metadata": {},
   "outputs": [],
   "source": [
    "def visualize_s3_pcolormesh(color_array, array, latitude, longitude, title):\n",
    "    \"\"\" \n",
    "    Visualizes a numpy array (Sentinel-3 data) with matplotlib's 'pcolormesh' function as RGB image.\n",
    "    \n",
    "    Parameters:\n",
    "        color_array (numpy MaskedArray): any numpy MaskedArray, e.g. loaded with the NetCDF library and the Dataset function\n",
    "        array (xarray.DataArray): in order to get the array dimensions\n",
    "        longitude (numpy Array): array with longitude values\n",
    "        latitude (numpy Array) : array with latitude values\n",
    "        title (str): title of the resulting plot\n",
    "    \"\"\"\n",
    "    fig=plt.figure(figsize=(20, 12))\n",
    "\n",
    "    ax=plt.axes(projection=ccrs.Mercator())\n",
    "    ax.coastlines()\n",
    "\n",
    "    gl = ax.gridlines(draw_labels=True, linestyle='--')\n",
    "    gl.xformatter=LONGITUDE_FORMATTER\n",
    "    gl.yformatter=LATITUDE_FORMATTER\n",
    "    gl.xlabel_style={'size':12}\n",
    "    gl.ylabel_style={'size':12}\n",
    "\n",
    "    img1 = plt.pcolormesh(longitude, latitude, array*np.nan, color=color_array,\n",
    "                          clip_on = True,\n",
    "                          edgecolors=None,\n",
    "                          zorder=0,\n",
    "                          transform=ccrs.PlateCarree())\n",
    "    ax.set_title(title, fontsize=18, pad=40.0)\n",
    "    plt.show()"
   ]
  },
  {
   "cell_type": "markdown",
   "metadata": {
    "heading_collapsed": "false"
   },
   "source": [
    "<hr>"
   ]
  },
  {
   "cell_type": "markdown",
   "metadata": {
    "heading_collapsed": "false"
   },
   "source": [
    "<img src='./img/all_partners_wekeo.png' alt='Logo EU Copernicus EUMETSAT' align='right' width='100%'></img>"
   ]
  }
 ],
 "metadata": {
  "kernelspec": {
   "display_name": "Python 3 (ipykernel)",
   "language": "python",
   "name": "python3"
  },
  "language_info": {
   "codemirror_mode": {
    "name": "ipython",
    "version": 3
   },
   "file_extension": ".py",
   "mimetype": "text/x-python",
   "name": "python",
   "nbconvert_exporter": "python",
   "pygments_lexer": "ipython3",
   "version": "3.8.12"
  },
  "toc-autonumbering": false,
  "toc-showcode": false,
  "toc-showmarkdowntxt": true
 },
 "nbformat": 4,
 "nbformat_minor": 4
}
