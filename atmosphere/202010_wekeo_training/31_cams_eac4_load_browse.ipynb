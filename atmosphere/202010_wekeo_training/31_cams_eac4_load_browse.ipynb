{
 "cells": [
  {
   "cell_type": "markdown",
   "metadata": {
    "heading_collapsed": "false"
   },
   "source": [
    "<img src='./img/LogoWekeo_Copernicus_RGB_0.png' alt='Logo EU Copernicus EUMETSAT' align='right' width='10%'></img>"
   ]
  },
  {
   "cell_type": "markdown",
   "metadata": {},
   "source": [
    "# Copernicus Atmosphere Monitoring Service (CAMS) Global Reanalysis (EAC4) "
   ]
  },
  {
   "cell_type": "markdown",
   "metadata": {
    "heading_collapsed": "false"
   },
   "source": [
    "The Copernicus Atmopshere Monitoring Service (CAMS) provides consistent and quality-controlled information related to air pollution and health and greenhouse gases. CAMS data consist of `global forecasts and analyses`, `global reanalyses (EAC4)`, `fire emissions` and `greenhouse gas flux inversions`.\n",
    "\n",
    "This notebooks provides an introduction to the CAMS global reanalysis (EAC4) data. EAC4 (ECMWF Atmospheric Composition Reanalysis 4) is the 4th generation ECMWF global reanalysis of atmospheric composition. Reanalysis combines model data with observations from across the world into a globally complete and consistent dataset. As a trace gas for smoke and fires the variable `Organic Matter Aerosol Optical Depth` is used. Alternatively, you can use `Total Aerosol Optical Depth` or `Total Column Carbon Monoxide` to monitor fires.\n",
    "\n",
    "CAMS EAC4 data are available in either `GRIB` or `netCDF` format. Get more information in the <a href='https://confluence.ecmwf.int/display/CKB/CAMS%3A+Reanalysis+data+documentation' target='_blank'>CAMS Reanalysis data documentation</a> and at the <a href='https://ads.atmosphere.copernicus.eu/cdsapp#!/dataset/cams-global-reanalysis-eac4?tab=overview' target='_blank'>Copernicus Atmosphere Data Store</a>."
   ]
  },
  {
   "cell_type": "markdown",
   "metadata": {
    "heading_collapsed": "false"
   },
   "source": [
    "#### Module outline:\n",
    "* [1 - Load and browse organic matter aerosol optical depth (AOD) at 550nm](#load_browse)\n",
    "* [2 - Bring longitude coordinates onto a (-180,180) grid](#shift)\n",
    "* [3 - Retrieve the data variable organic matter AOD at 550nm as xarray DataArray](#data_retrieve)\n",
    "* [4 - Visualize organic matter aerosol optical depth at 550nm](#visualize)\n",
    "* [5 - Create a geographical subset for Australia](#subset)"
   ]
  },
  {
   "cell_type": "markdown",
   "metadata": {},
   "source": [
    "<hr>"
   ]
  },
  {
   "cell_type": "markdown",
   "metadata": {
    "heading_collapsed": "false"
   },
   "source": [
    "#### Load required libraries"
   ]
  },
  {
   "cell_type": "code",
   "execution_count": null,
   "metadata": {
    "heading_collapsed": "false"
   },
   "outputs": [],
   "source": [
    "%matplotlib inline\n",
    "import os\n",
    "import xarray as xr\n",
    "import numpy as np\n",
    "import netCDF4 as nc\n",
    "import pandas as pd\n",
    "\n",
    "from IPython.display import HTML\n",
    "\n",
    "import matplotlib.pyplot as plt\n",
    "import matplotlib.colors\n",
    "from matplotlib.cm import get_cmap\n",
    "from matplotlib import animation\n",
    "import cartopy.crs as ccrs\n",
    "from cartopy.mpl.gridliner import LONGITUDE_FORMATTER, LATITUDE_FORMATTER\n",
    "import cartopy.feature as cfeature\n",
    "\n",
    "from matplotlib.axes import Axes\n",
    "from cartopy.mpl.geoaxes import GeoAxes\n",
    "GeoAxes._pcolormesh_patched = Axes.pcolormesh\n"
   ]
  },
  {
   "cell_type": "markdown",
   "metadata": {},
   "source": [
    "#### Load helper functions"
   ]
  },
  {
   "cell_type": "code",
   "execution_count": null,
   "metadata": {},
   "outputs": [],
   "source": [
    "from ipynb.fs.full.functions import visualize_pcolormesh, generate_geographical_subset"
   ]
  },
  {
   "cell_type": "markdown",
   "metadata": {
    "heading_collapsed": "false"
   },
   "source": [
    "<hr>"
   ]
  },
  {
   "cell_type": "markdown",
   "metadata": {},
   "source": [
    "### <a id='load_browse'></a>1. Load and browse `EAC4 reanalysis` data"
   ]
  },
  {
   "cell_type": "markdown",
   "metadata": {},
   "source": [
    "CAMS global reanalysis data is available either in `GRIB` or `netCDF`. The data for this example is available in `netCDF`. \n",
    "The code below searches in the directory all the netCDF file and provides the filename of the last one downloaded."
   ]
  },
  {
   "cell_type": "code",
   "execution_count": null,
   "metadata": {},
   "outputs": [],
   "source": [
    "# get filename of latest .nc downloaded file \n",
    "files = [file for file in os.listdir(\".\") if (file.lower().endswith('.nc'))]\n",
    "list_nc_file = []\n",
    "\n",
    "for file in sorted(files,key=os.path.getmtime, reverse=True):\n",
    "    list_nc_file.append(file)\n",
    "    \n",
    "print(f'Selected netCDF file: {list_nc_file[0]}')   "
   ]
  },
  {
   "cell_type": "markdown",
   "metadata": {},
   "source": [
    "You can use xarray's function `xr.open_dataset()` to open the netCDF file as xarray Dataset."
   ]
  },
  {
   "cell_type": "code",
   "execution_count": null,
   "metadata": {},
   "outputs": [],
   "source": [
    "file = xr.open_dataset(list_nc_file[0])\n",
    "file\n"
   ]
  },
  {
   "cell_type": "markdown",
   "metadata": {},
   "source": [
    "The data above has three dimensions (`latitude`, `longitude` and `time`) and three data variables:\n",
    "* `omaod550`: Organic matter Aerosol Optical Depth at 550nm , \n",
    "* `aod550`: Total Aerosol Optical Depth at 550nm, and \n",
    "* `tcco`: Total Column Carbon Monoxide.\n",
    "\n",
    "Let us inspect the coordinates of the file more in detail."
   ]
  },
  {
   "cell_type": "markdown",
   "metadata": {},
   "source": [
    "Below, you see that the data set consists of 56 time steps, ranging from 25 December 2019 00 UTC to 31 December 21 UTC in a three-hourly timestep."
   ]
  },
  {
   "cell_type": "code",
   "execution_count": null,
   "metadata": {},
   "outputs": [],
   "source": [
    "file.time"
   ]
  },
  {
   "cell_type": "markdown",
   "metadata": {},
   "source": [
    "The latitude values have a 0.25 degrees resolution and have a global N-S coverage."
   ]
  },
  {
   "cell_type": "code",
   "execution_count": null,
   "metadata": {},
   "outputs": [],
   "source": [
    "file.latitude"
   ]
  },
  {
   "cell_type": "markdown",
   "metadata": {},
   "source": [
    "The longitude values have a 0.25 degrees resolution as well, but are on a [0,360] grid instead of a [-180,180] grid. "
   ]
  },
  {
   "cell_type": "code",
   "execution_count": null,
   "metadata": {},
   "outputs": [],
   "source": [
    "file.longitude"
   ]
  },
  {
   "cell_type": "markdown",
   "metadata": {},
   "source": [
    "### <a id='shift'></a>2. Bring longitude coordinates onto a [-180,180] grid"
   ]
  },
  {
   "cell_type": "markdown",
   "metadata": {},
   "source": [
    "You can assign new values to coordinates in an xarray Dataset. You can do so with the `assign_coords()` function, which you can apply onto an xarray Dataset. With the code below, you shift your longitude grid from [0,360] to [-180,180]. At the end, you sort the longitude values in an ascending order."
   ]
  },
  {
   "cell_type": "code",
   "execution_count": null,
   "metadata": {},
   "outputs": [],
   "source": [
    "file_assigned = file.assign_coords(longitude=(((file.longitude + 180) % 360) - 180)).sortby('longitude')\n",
    "file_assigned"
   ]
  },
  {
   "cell_type": "markdown",
   "metadata": {},
   "source": [
    "A quick check of the longitude coordinates of the new xarray Dataset shows you that the longitude values range now between [-180, 180]."
   ]
  },
  {
   "cell_type": "code",
   "execution_count": null,
   "metadata": {},
   "outputs": [],
   "source": [
    "file_assigned.longitude"
   ]
  },
  {
   "cell_type": "markdown",
   "metadata": {},
   "source": [
    "### <a id='data_retrieve'></a>3. Retrieve the data variable `organic matter AOD at 550nm` as xarray DataArray"
   ]
  },
  {
   "cell_type": "markdown",
   "metadata": {},
   "source": [
    "Let us store the data variable `organic matter AOD at 550nm` as xarray DataArray with the name `om_aod`."
   ]
  },
  {
   "cell_type": "code",
   "execution_count": null,
   "metadata": {},
   "outputs": [],
   "source": [
    "om_aod = file_assigned.omaod550\n",
    "om_aod"
   ]
  },
  {
   "cell_type": "markdown",
   "metadata": {},
   "source": [
    "Above, you see that the variable `om_aod` has two attributes, `units` and `long_name`. Let us define variables for those attributes. The variables can be used for visualizing the data."
   ]
  },
  {
   "cell_type": "code",
   "execution_count": null,
   "metadata": {},
   "outputs": [],
   "source": [
    "long_name = om_aod.long_name\n",
    "units = om_aod.units"
   ]
  },
  {
   "cell_type": "markdown",
   "metadata": {},
   "source": [
    "Let us do the same for the coordinates `longitude` and `latitude`."
   ]
  },
  {
   "cell_type": "code",
   "execution_count": null,
   "metadata": {},
   "outputs": [],
   "source": [
    "latitude = om_aod.latitude\n",
    "longitude = om_aod.longitude"
   ]
  },
  {
   "cell_type": "markdown",
   "metadata": {},
   "source": [
    "### <a id='visualize'></a>4. Visualize `organic matter aerosol optical depth at 550nm`"
   ]
  },
  {
   "cell_type": "markdown",
   "metadata": {},
   "source": [
    "Let us visualize the dataset. You can use the function [visualize_pcolormesh](./functions.ipynb#visualize_pcolormesh), which makes use of matploblib's function `pcolormesh` and the [Cartopy](https://scitools.org.uk/cartopy/docs/latest/) library.\n",
    "\n",
    "With `?visualize_pcolormesh` you can open the function's docstring to see what keyword arguments are needed to prepare your plot."
   ]
  },
  {
   "cell_type": "code",
   "execution_count": null,
   "metadata": {},
   "outputs": [],
   "source": [
    "?visualize_pcolormesh"
   ]
  },
  {
   "cell_type": "markdown",
   "metadata": {},
   "source": [
    "You can make use of the variables we have defined above:\n",
    "- `units`\n",
    "- `long_name`\n",
    "- `latitude`\n",
    "- `longitude`\n",
    "\n",
    "Additionally, you can specify the color scale and minimum and maxium data values."
   ]
  },
  {
   "cell_type": "code",
   "execution_count": null,
   "metadata": {},
   "outputs": [],
   "source": [
    "visualize_pcolormesh(\n",
    "    om_aod[15,:,:],\n",
    "    longitude,\n",
    "    latitude,\n",
    "    ccrs.PlateCarree(),\n",
    "    'YlGn',\n",
    "    units,\n",
    "    long_name + ' ' + str(om_aod[15,:,:].time.data),\n",
    "    0, 1.5,\n",
    "    -180,180,-90,90,\n",
    "    log=False,\n",
    "    set_global=True\n",
    "    )"
   ]
  },
  {
   "cell_type": "markdown",
   "metadata": {},
   "source": [
    "<br>"
   ]
  },
  {
   "cell_type": "markdown",
   "metadata": {},
   "source": [
    "### <a id='subset'></a>5. Create a geographical subset for Australia"
   ]
  },
  {
   "cell_type": "markdown",
   "metadata": {},
   "source": [
    "The map above shows organic matter of Aerosol Optical Depth at 550nm globally. Let us create a geographical subset for Australia, in order to better analyse the Australian wildfires.\n",
    "\n",
    "For geographical subsetting, you can use the function [generate_geographical_subset](./functions.ipynb#generate_geographical_subset). You can use `?generate_geographical_subset` to open the docstring in order to see the function's keyword arguments."
   ]
  },
  {
   "cell_type": "code",
   "execution_count": null,
   "metadata": {},
   "outputs": [],
   "source": [
    "?generate_geographical_subset"
   ]
  },
  {
   "cell_type": "markdown",
   "metadata": {},
   "source": [
    "Define the bounding box information"
   ]
  },
  {
   "cell_type": "code",
   "execution_count": null,
   "metadata": {},
   "outputs": [],
   "source": [
    "latmin = -70\n",
    "latmax = 10\n",
    "lonmin = 100\n",
    "lonmax = 179.5"
   ]
  },
  {
   "cell_type": "markdown",
   "metadata": {},
   "source": [
    "Now, let us apply the function [generate_geographical_subset](./functions.ipynb#generate_geographcial_subset) to subset the `om_aod` DataArray. Let us call the new DataArray `om_aod_subset`."
   ]
  },
  {
   "cell_type": "code",
   "execution_count": null,
   "metadata": {},
   "outputs": [],
   "source": [
    "om_aod_subset = generate_geographical_subset(om_aod, latmin, latmax, lonmin, lonmax)\n",
    "om_aod_subset"
   ]
  },
  {
   "cell_type": "markdown",
   "metadata": {},
   "source": [
    "Let us visualize the subsetted DataArray again. This time, you set the `set_global` kwarg to `False` and you specify the longitude and latitude bounds specified above.\n",
    "\n",
    "Additionally - in order to have the time information as part of the title, we add the string of the datetime information to the `long_name` variable: `long_name + ' ' + str(om_aod_subset[50,:,:].time.data)`."
   ]
  },
  {
   "cell_type": "code",
   "execution_count": null,
   "metadata": {},
   "outputs": [],
   "source": [
    "visualize_pcolormesh(\n",
    "    om_aod_subset[55,:,:],\n",
    "    om_aod_subset.longitude,\n",
    "    om_aod_subset.latitude,\n",
    "    ccrs.PlateCarree(),\n",
    "    'YlGn',\n",
    "    units,\n",
    "    long_name ,\n",
    "    0, 2,\n",
    "    lonmin,lonmax,latmin,latmax,\n",
    "    log=False,\n",
    "    set_global=False\n",
    "    )"
   ]
  },
  {
   "cell_type": "markdown",
   "metadata": {},
   "source": [
    "<br>"
   ]
  },
  {
   "cell_type": "markdown",
   "metadata": {
    "heading_collapsed": "false"
   },
   "source": [
    "<hr>"
   ]
  },
  {
   "cell_type": "markdown",
   "metadata": {
    "heading_collapsed": "false"
   },
   "source": [
    "<p><img src='./img/all_partners_wekeo.png' align='left' alt='Logo EU Copernicus' width='100%'></img></p>"
   ]
  }
 ],
 "metadata": {
  "author": "Julia Wagemann",
  "description": "This notebook introduces you to the CAMS global reanalysis data and shows you how you can load, browse and visualize the data.",
  "github": "https://github.com/wekeo/wekeo4atmosphere/blob/main/atmosphere/202010_wekeo_training/31_cams_eac4_load_browse.ipynb",
  "image": "./img/img_03.png",
  "kernelspec": {
   "display_name": "Python 3",
   "language": "python",
   "name": "python3"
  },
  "language_info": {
   "codemirror_mode": {
    "name": "ipython",
    "version": 3
   },
   "file_extension": ".py",
   "mimetype": "text/x-python",
   "name": "python",
   "nbconvert_exporter": "python",
   "pygments_lexer": "ipython3",
   "version": "3.8.8"
  },
  "link": "https://jupyterhub-wekeo.apps.eumetsat.dpi.wekeo.eu/hub/user-redirect/lab/tree/public/atmosphere/202010_wekeo_training/31_cams_eac4_load_browse.ipynb",
  "tags": {
   "copernicus_service": "CAMS (Atmosphere)",
   "domain": "Atmosphere",
   "tags": "Organic matter aerosol optical depth"
  },
  "title": "Discover CAMS global reanalysis (EAC4) data"
 },
 "nbformat": 4,
 "nbformat_minor": 4
}
