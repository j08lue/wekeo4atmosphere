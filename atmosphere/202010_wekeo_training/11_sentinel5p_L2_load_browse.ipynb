{
 "cells": [
  {
   "cell_type": "markdown",
   "metadata": {
    "heading_collapsed": "false"
   },
   "source": [
    "<img src='./img/LogoWekeo_Copernicus_RGB_0.png' alt='Logo EU Copernicus EUMETSAT' align='right' width='10%'></img>"
   ]
  },
  {
   "cell_type": "markdown",
   "metadata": {},
   "source": [
    "# Copernicus Sentinel-5 Precursor (Sentinel-5p) - Carbon Monoxide"
   ]
  },
  {
   "cell_type": "markdown",
   "metadata": {
    "heading_collapsed": "false"
   },
   "source": [
    "The subsequent example introduces you to Sentinel-5p data in general and the total column of carbon monoxide sensed by Sentinel-5p in specific. Carbon Monoxide is a good trace gas in order to monitor and track fire occurences. The example is based on the Australian bushfires that severely affected Australias East Coast end of 2019 and beginning of 2020.\n"
   ]
  },
  {
   "cell_type": "markdown",
   "metadata": {
    "heading_collapsed": "false"
   },
   "source": [
    "#### Module outline:\n",
    "* [1 - Load and browse Sentinel-5P TROPOMI data](#load_s5p)\n",
    "* [2 - Create a geographical subset](#geographical_subset)\n",
    "* [3 - Visualize Sentinel-5P Carbon Monoxide data](#visualize_s5p)"
   ]
  },
  {
   "cell_type": "markdown",
   "metadata": {
    "heading_collapsed": "false"
   },
   "source": [
    "#### Load required libraries"
   ]
  },
  {
   "cell_type": "code",
   "execution_count": null,
   "metadata": {
    "heading_collapsed": "false"
   },
   "outputs": [],
   "source": [
    "%matplotlib inline\n",
    "import os\n",
    "import xarray as xr\n",
    "import numpy as np\n",
    "import netCDF4 as nc\n",
    "\n",
    "import matplotlib.pyplot as plt\n",
    "from matplotlib.colors import LogNorm\n",
    "import cartopy.crs as ccrs\n",
    "from cartopy.mpl.gridliner import LONGITUDE_FORMATTER, LATITUDE_FORMATTER\n",
    "import cartopy.feature as cfeature\n",
    "\n",
    "import subprocess\n",
    "import shlex\n",
    "import zipfile\n",
    "import os\n",
    "\n",
    "from matplotlib.axes import Axes\n",
    "from cartopy.mpl.geoaxes import GeoAxes\n",
    "GeoAxes._pcolormesh_patched = Axes.pcolormesh"
   ]
  },
  {
   "cell_type": "markdown",
   "metadata": {},
   "source": [
    "#### Load helper functions"
   ]
  },
  {
   "cell_type": "code",
   "execution_count": null,
   "metadata": {},
   "outputs": [],
   "source": [
    "from ipynb.fs.full.functions import visualize_pcolormesh, generate_geographical_subset"
   ]
  },
  {
   "cell_type": "markdown",
   "metadata": {
    "heading_collapsed": "false"
   },
   "source": [
    "<hr>"
   ]
  },
  {
   "cell_type": "markdown",
   "metadata": {},
   "source": [
    "### Decompressing Sentinel-5 Precursor (Sentinel-5p) data"
   ]
  },
  {
   "cell_type": "markdown",
   "metadata": {},
   "source": [
    "The Sentinel-5 Precursor (Sentinel-5p) data could be not available on the machine. In this case there is the method to download them to [10 - Sentinel-5 Precursor Level 2 Retrieve](./10_sentinel5p_L2_retrieve.ipynb).\n",
    "\n",
    "Also the user must extract the data before load them, if they are provided as a zip archive. If you have an already decompressed data this step is not necessary and the data can be directly loaded."
   ]
  },
  {
   "cell_type": "code",
   "execution_count": null,
   "metadata": {},
   "outputs": [],
   "source": [
    "#rename S3 file\n",
    "download_dir_path = os.getcwd()\n",
    "\n",
    "for item in os.listdir(download_dir_path):\n",
    "    if not os.path.isdir(item):\n",
    "        cmd = shlex.split('file --mime-type {0}'.format(item))\n",
    "        result = subprocess.check_output(cmd)\n",
    "        mime_type = result.split()[-1]\n",
    "        if item.startswith('S5P_OFFL_L2_') and not item.endswith('.zip') and mime_type == b'application/zip':\n",
    "            os.rename(os.path.join(download_dir_path, item), os.path.join(download_dir_path, item +\".zip\"))"
   ]
  },
  {
   "cell_type": "markdown",
   "metadata": {},
   "source": [
    "In case you have permission issues when renaming the archive with the code above, please manually do that by right-clicking the file, then rename, then add .zip to the end of the filename.\n",
    "\n",
    "For example:\n",
    "- From: S5P_OFFL_L2__NO2____20191229T014948_20191229T033118_11445_01_010302_20191230T183957  \n",
    "- To: S5P_OFFL_L2__NO2____20191229T014948_20191229T033118_11445_01_010302_20191230T183957.zip"
   ]
  },
  {
   "cell_type": "code",
   "execution_count": null,
   "metadata": {},
   "outputs": [],
   "source": [
    "extension = \".zip\"\n",
    "\n",
    "for item in os.listdir(download_dir_path): # loop through items in dir\n",
    "    if item.endswith(extension): # check for \".zip\" extension\n",
    "        file_name = os.path.join(download_dir_path, item) # get full path of files\n",
    "        zip_ref = zipfile.ZipFile(file_name) # create zipfile object\n",
    "        zip_ref.extractall(download_dir_path) # extract file to dir\n",
    "        zip_ref.close() # close file\n",
    "        "
   ]
  },
  {
   "cell_type": "markdown",
   "metadata": {
    "heading_collapsed": "false"
   },
   "source": [
    "## <a id=\"load_s5p\"></a>Load and browse Sentinel-5P data"
   ]
  },
  {
   "cell_type": "markdown",
   "metadata": {},
   "source": [
    "A Sentinel-5p file is organised in two groups: `PRODUCT` and `METADATA`. The `PRODUCT` group stores the main data fields of the product, including `latitude`, `longitude` and the variable itself. The `METADATA` group provides additional metadata items.\n",
    "\n",
    "Sentinel-5p variables have the following dimensions:\n",
    "* `scanline`: the number of measurements in the granule / along-track dimension index\n",
    "* `ground_pixel`: the number of spectra in a measurement / across-track dimension index\n",
    "* `time`: time reference for the data\n",
    "* `corner`: pixel corner index\n",
    "* `layer`: this dimension indicates the vertical grid of profile variables\n",
    "\n",
    "Sentinel-5p data is disseminated in `netCDF`. You can load multiple `netCDF` files at once with the `open_mfdataset()` function of the xarray library. In order to load the variable as part of a Sentinel-5p data files, you have to specify the following keyword arguments: \n",
    "- `group='PRODUCT'`: to load the `PRODUCT` group\n",
    "- `concat_dim='scanline'`: multiple files will be concatenated based on the scanline dimension\n",
    "- `combine=nested`: combine a n-dimensional grids into one along each dimension of the grid\n",
    "\n",
    "Let us load a Sentinel-5p data file as `xarray.Dataset` and inspect the data structure:"
   ]
  },
  {
   "cell_type": "code",
   "execution_count": null,
   "metadata": {
    "heading_collapsed": "false"
   },
   "outputs": [],
   "source": [
    "s5p = xr.open_mfdataset('./S5P_OFFL_L2__NO2____20191229*/*.nc', concat_dim='scanline', combine='nested', group='PRODUCT')\n",
    "s5p"
   ]
  },
  {
   "cell_type": "markdown",
   "metadata": {
    "heading_collapsed": "false"
   },
   "source": [
    "You see that a Sentinel-5p data files contains of ten dimensions and twelve data variables:\n",
    "* **Dimensions**:\n",
    "  * `scanline` \n",
    "  * `ground_pixel`\n",
    "  * `time`\n",
    "  * `corner`\n",
    "  * `polynomial_exponents`\n",
    "  * `intensity_offset_polynomial_exponents`\n",
    "  * `layer`\n",
    "  * `vertices`\n",
    "  * `latitude`\n",
    "  * `longitude`\n",
    "\n",
    "\n",
    "* **Data variables**:\n",
    "  * `delta_time`: the offset of individual measurements within the granule, given in milliseconds\n",
    "  * `time_utc`: valid time stamp of the data\n",
    "  * `ga_value`: quality descriptor, varying between 0 (nodata) and 1 (full quality data)\n",
    "  * `nitrogendioxide_tropospheric_column`: Vertically integrated CO column density\n",
    "  * `nitrogendioxide_tropospheric_column_precision`: precision of the tropospheric vertical column of NO2\n",
    "  * `nitrogendioxide_tropospheric_column_precision_kernel`: Precision of the tropospheric vertical column of NO2 when the averaging kernel is applied\n",
    "  * `averaging_kernel`: averaging kernel A for in the air mass factor correction, describing the NO2 profile sensitivity of the vertical column density (dimensionless) \n",
    "  * `air_mass_factor_troposphere`: tropospheric air mass factor, computed by integrating the altitude dependent air mass factor over the atmospheric layers from  the surface up to and including the layer with the tropopause.\n",
    "  * `air_mass_factor_total`: Total air mass factor, computed by integrating the altitude dependent air mass factor over the atmospheric layers from the surface to top-of-atmosphere\n",
    "  * `tm5_tropopause_layer_index`: index of the highest layer in TM5 which is completely inside the troposphere, in terms of the layer coordinate\n",
    "  * `tm5_constant_a`: hybrid A coefficient at the TM5 pressure levels\n",
    "  * `tm5_constant_b`: hybrid B coefficient at the TM5 pressure levels\n",
    "  "
   ]
  },
  {
   "cell_type": "markdown",
   "metadata": {
    "heading_collapsed": "false"
   },
   "source": [
    "You can specify one variable of interest and get more detailed information about the variable. E.g. `carbonmonoxide_total_column` is the atmosphere mole content of carbon monoxide, has the unit `mol per m-2`, and has three dimensions, `time`, `scanline` and `groundpixel` respectively."
   ]
  },
  {
   "cell_type": "code",
   "execution_count": null,
   "metadata": {},
   "outputs": [],
   "source": [
    "s5p_co = s5p['nitrogendioxide_tropospheric_column']\n",
    "s5p_co"
   ]
  },
  {
   "cell_type": "markdown",
   "metadata": {},
   "source": [
    "You can do this for the available variables, but also for the dimensions latitude and longitude."
   ]
  },
  {
   "cell_type": "code",
   "execution_count": null,
   "metadata": {},
   "outputs": [],
   "source": [
    "print('Latitude')\n",
    "print(s5p_co.latitude)\n",
    "\n",
    "print('Longitude')\n",
    "print(s5p_co.longitude)"
   ]
  },
  {
   "cell_type": "markdown",
   "metadata": {
    "heading_collapsed": "false"
   },
   "source": [
    "<br>"
   ]
  },
  {
   "cell_type": "markdown",
   "metadata": {
    "heading_collapsed": "false"
   },
   "source": [
    "You can retrieve the array values of the variable with squared bracket: `[:,:,:]`. One single time step can be selected by specifying one value of the time dimension, e.g. `[0,:,:]`."
   ]
  },
  {
   "cell_type": "code",
   "execution_count": null,
   "metadata": {},
   "outputs": [],
   "source": [
    "s5p_co_2912 = s5p_co[0,:,:]\n",
    "s5p_co_2912"
   ]
  },
  {
   "cell_type": "markdown",
   "metadata": {},
   "source": [
    "The attributes of the data array hold the entry `multiplication_factor_to_convert_to_molecules_percm2`, which is a conversion factor that has to be applied to convert the data from `mol per m2` to `molecules per cm2`.\n"
   ]
  },
  {
   "cell_type": "code",
   "execution_count": null,
   "metadata": {},
   "outputs": [],
   "source": [
    "conversion_factor = s5p_co_2912.multiplication_factor_to_convert_to_molecules_percm2\n",
    "conversion_factor"
   ]
  },
  {
   "cell_type": "markdown",
   "metadata": {},
   "source": [
    "Additionally, you can save the attribute `longname`, which you can make use of when visualizing the data."
   ]
  },
  {
   "cell_type": "code",
   "execution_count": null,
   "metadata": {
    "heading_collapsed": "false"
   },
   "outputs": [],
   "source": [
    "longname = s5p_co.long_name\n",
    "longname"
   ]
  },
  {
   "cell_type": "markdown",
   "metadata": {
    "heading_collapsed": "false"
   },
   "source": [
    "## <a id='geographical_subset'></a>Create  a geographical subset"
   ]
  },
  {
   "cell_type": "markdown",
   "metadata": {
    "heading_collapsed": "false"
   },
   "source": [
    "You can zoom into a region by specifying a `bounding box` of interest. Let's set the extent to southeast Australia with the following bounding box information:"
   ]
  },
  {
   "cell_type": "code",
   "execution_count": null,
   "metadata": {
    "heading_collapsed": "false"
   },
   "outputs": [],
   "source": [
    "lonmin=135.39739634141876\n",
    "lonmax=162.5751370327434\n",
    "latmin=-44.52932633885725\n",
    "latmax=-13.045119366579158"
   ]
  },
  {
   "cell_type": "markdown",
   "metadata": {},
   "source": [
    "You can use the function [generate_geographical_subset()](./functions.ipynb#generate_geographical_subset) to subset an xarray DataArray based on a given bounding box."
   ]
  },
  {
   "cell_type": "code",
   "execution_count": null,
   "metadata": {},
   "outputs": [],
   "source": [
    "s5p_co_subset = generate_geographical_subset(s5p_co_2912, latmin, latmax, lonmin, lonmax)\n",
    "s5p_co_subset"
   ]
  },
  {
   "cell_type": "markdown",
   "metadata": {
    "heading_collapsed": "false"
   },
   "source": [
    "<br>"
   ]
  },
  {
   "cell_type": "markdown",
   "metadata": {
    "heading_collapsed": "false"
   },
   "source": [
    "## <a id=\"plotting_s5p\"></a>Plotting example - Sentinel-5P data"
   ]
  },
  {
   "cell_type": "markdown",
   "metadata": {
    "heading_collapsed": "false"
   },
   "source": [
    "You can plot data arrays of type `numpy` with matplotlib's `pcolormesh` function. In combination with the library [cartopy](https://scitools.org.uk/cartopy/docs/latest/), you can produce high-quality maps. "
   ]
  },
  {
   "cell_type": "markdown",
   "metadata": {
    "heading_collapsed": "false"
   },
   "source": [
    "In order to make it easier to visualize the Carbon Monoxide values, we apply the conversion factor to the DataArray. This converts the Carbon Monoxide values from mol per m<sup>2</sup> to molecules per cm<sup>2</sup>."
   ]
  },
  {
   "cell_type": "code",
   "execution_count": null,
   "metadata": {},
   "outputs": [],
   "source": [
    "s5p_co_converted = s5p_co_subset*conversion_factor\n",
    "s5p_co_converted"
   ]
  },
  {
   "cell_type": "markdown",
   "metadata": {},
   "source": [
    "For visualization, you can use the function [visualize_pcolormesh](./functions#visualize_pcolormesh) to visualize the data. The following kwargs have to be defined:\n",
    "* `xarray DataArray`\n",
    "* `longitude`\n",
    "* `latitude`\n",
    "* `projection`\n",
    "* `color palette`\n",
    "* `unit`\n",
    "* `longname`\n",
    "* `vmin`, `vmax`\n",
    "* `extent (lonmin, lonmax, latmin, latmax)`\n",
    "* `log`\n",
    "* `set_global`"
   ]
  },
  {
   "cell_type": "markdown",
   "metadata": {},
   "source": [
    "Now, let us apply the [visualize_pcolormesh](./functions#visualize_pcolormesh) function and visualize the vertically integrated carbon monoxide column sensored from the Sentinel-5P satellite on 29 December 2019.\n",
    "\n",
    "Note: Multiplying the DataArray values with 1e-18 improves the readibility of the map legend."
   ]
  },
  {
   "cell_type": "code",
   "execution_count": null,
   "metadata": {
    "heading_collapsed": "false"
   },
   "outputs": [],
   "source": [
    "visualize_pcolormesh(s5p_co_converted*1e-18, \n",
    "                     s5p_co_converted.longitude, \n",
    "                     s5p_co_converted.latitude, \n",
    "                     ccrs.PlateCarree(), \n",
    "                     'viridis', \n",
    "                     '*1e-18 molecules per cm2', \n",
    "                     longname, \n",
    "                     0, 8, \n",
    "                     lonmin, lonmax, latmin, latmax, \n",
    "                     log=False, \n",
    "                     set_global=False)\n"
   ]
  },
  {
   "cell_type": "markdown",
   "metadata": {
    "heading_collapsed": "false"
   },
   "source": [
    "<br>"
   ]
  },
  {
   "cell_type": "markdown",
   "metadata": {
    "heading_collapsed": "false"
   },
   "source": [
    "<hr>"
   ]
  },
  {
   "cell_type": "markdown",
   "metadata": {
    "heading_collapsed": "false"
   },
   "source": [
    "<img src='./img/all_partners_wekeo.png' alt='Logo EU Copernicus EUMETSAT' align='right' width='100%'></img>"
   ]
  }
 ],
 "metadata": {
  "author": "Julia Wagemann",
  "description": "This notebook introduces you to the Sentinel-5P TROPOMI Level 2 Carbon Monoxide data and shows you how you can load, browse and visualize the data.",
  "github": "https://github.com/wekeo/wekeo4atmosphere/blob/main/atmosphere/202010_wekeo_training/11_sentinel5p_L2_load_browse.ipynb",
  "image": "./img/img_01.png",
  "kernelspec": {
   "display_name": "Python 3",
   "language": "python",
   "name": "python3"
  },
  "language_info": {
   "codemirror_mode": {
    "name": "ipython",
    "version": 3
   },
   "file_extension": ".py",
   "mimetype": "text/x-python",
   "name": "python",
   "nbconvert_exporter": "python",
   "pygments_lexer": "ipython3",
   "version": "3.8.8"
  },
  "link": "https://jupyterhub-wekeo.apps.eumetsat.dpi.wekeo.eu/hub/user-redirect/lab/tree/public/atmosphere/202010_wekeo_training/11_sentinel5p_L2_load_browse.ipynb ",
  "tags": {
   "domain": "Atmosphere",
   "platform": "Sentinel-5P",
   "sensor": "TROPOMI",
   "tags": "Total column carbon monoxide concentration"
  },
  "title": "Discover Sentinel-5P TROPOMI Level 2 Carbon Monoxide data"
 },
 "nbformat": 4,
 "nbformat_minor": 4
}
