{
 "cells": [
  {
   "cell_type": "markdown",
   "metadata": {
    "heading_collapsed": "false"
   },
   "source": [
    "<img src='../img/LogoWekeo_Copernicus_RGB_0.png' alt='Logo EU Copernicus EUMETSAT' align='right' width='10%'></img>"
   ]
  },
  {
   "cell_type": "markdown",
   "metadata": {},
   "source": [
    "# Copernicus Sentinel-5 Precursor (Sentinel-5P) Level 2 Nitrogen Dioxide - Retrieve"
   ]
  },
  {
   "cell_type": "markdown",
   "metadata": {},
   "source": [
    "The example below illustrates step-by-step how the Copernicus Sentinel-5P Level 2 Nitrogen Dioxide (NO<sub>2</sub>) data product can be retrieved from WEkEO with the help of the [WEkEO HDA API client](https://github.com/ecmwf/hda). The notebook aims to retrieve Sentinel-5P Level 2 NO<sub>2</sub> data over Europe from 5 February 2021.\n",
    "\n",
    "The HDA API workflow is a six-step process:\n",
    " - [1. Install the WEkEO HDA API client](#wekeo_hda_install)\n",
    " - [2. Search for datasets on WEkEO](#wekeo_search)\n",
    " - [3. Get the API request](#wekeo_api_request)\n",
    " - [4. Configure the WEkEO API Authentication](#wekeo_hda_auth)\n",
    " - [5. Load data descriptor file and request data](#wekeo_json)\n",
    " - [6. Download requested data](#wekeo_download)\n",
    " \n",
    "All steps have to be performed in order to be able to retrieve data from WEkEO."
   ]
  },
  {
   "cell_type": "markdown",
   "metadata": {},
   "source": [
    "<hr>"
   ]
  },
  {
   "cell_type": "markdown",
   "metadata": {},
   "source": [
    "#### Load required libraries"
   ]
  },
  {
   "cell_type": "code",
   "execution_count": 1,
   "metadata": {},
   "outputs": [],
   "source": [
    "import json"
   ]
  },
  {
   "cell_type": "markdown",
   "metadata": {},
   "source": [
    "<hr>"
   ]
  },
  {
   "cell_type": "markdown",
   "metadata": {},
   "source": [
    "### <a id='wekeo_hda_install'></a>1. Install the WEkEO HDA API client"
   ]
  },
  {
   "cell_type": "markdown",
   "metadata": {},
   "source": [
    "The [WEkEO HDA API client](https://github.com/ecmwf/hda) is a Python library that can be used to search and download products using the Harmonized Data Access WEkEO API. You can install the WEkEO HDA API client via with the following command:\n",
    "\n",
    "*Note: once the package has successfully been installed, you might need to restart the kernel*."
   ]
  },
  {
   "cell_type": "code",
   "execution_count": null,
   "metadata": {},
   "outputs": [],
   "source": [
    "pip install -U hda"
   ]
  },
  {
   "cell_type": "markdown",
   "metadata": {},
   "source": [
    "#### Load the WEkEO HDA API client"
   ]
  },
  {
   "cell_type": "markdown",
   "metadata": {},
   "source": [
    "Once the package is installed, you can import it with the command `import hda`."
   ]
  },
  {
   "cell_type": "code",
   "execution_count": 3,
   "metadata": {},
   "outputs": [],
   "source": [
    "import hda"
   ]
  },
  {
   "cell_type": "markdown",
   "metadata": {},
   "source": [
    "<hr>"
   ]
  },
  {
   "cell_type": "markdown",
   "metadata": {},
   "source": [
    "### <a id='wekeo_search'></a>2. Search for datasets on WEkEO"
   ]
  },
  {
   "cell_type": "markdown",
   "metadata": {},
   "source": [
    "Under <a href='https://www.wekeo.eu/data' target=\"_blank\">WEkEO DATA</a>, you can search all datasets available on WEkEO. To add additional layers, you have to click on the `+` sign, which opens the `Catalogue` interface.\n",
    "There are two search options:<br> \n",
    "- a `free keyword search`, and \n",
    "- a pre-defined `predefined keyword search`, that helps to filter the data based on `area`, `platform`, `data provider` and more.<br> \n",
    "\n",
    "Under `PLATFORM`, you can select *`Sentinel-5P`* and retrieve the results. You can either directly add the data to the map or you can click on `Details`, which opens a dataset description.\n",
    "\n",
    "When you click on `Add to map...`, a window opens where you can select one specific variable of Sentinel-5P TROPOMI. \n",
    "\n",
    "<br>\n",
    "\n",
    "\n",
    "<img src='../img/wekeo_interface_s5p_1.png' width='90%' />"
   ]
  },
  {
   "cell_type": "markdown",
   "metadata": {},
   "source": [
    "### <a id='wekeo_api_request'></a>3. Get the API request"
   ]
  },
  {
   "cell_type": "markdown",
   "metadata": {},
   "source": [
    "When a layer is added to the map, you can select the download icon, which opens an interface that allows you to tailor your data request.\n",
    "For Sentinel-5P, the following information can be selected:\n",
    "* `Bounding box`\n",
    "* `Sensing start stop time`\n",
    "* `Processing level`\n",
    "* `Product type`\n",
    "* `Timeliness`\n",
    "\n",
    "Once you made your selection, you can either directly requet the data or you can click on `Show API request`, which opens a window with the HDA API request for the specific data selection.\n",
    "\n",
    "\n",
    "<br>\n",
    "\n",
    "\n",
    "<img src='../img/wekeo_interface_s5p_2.png' width='80%' />\n",
    "<br>\n"
   ]
  },
  {
   "cell_type": "markdown",
   "metadata": {},
   "source": [
    "`Copy` the API request and save it as a `JSON` file. We did the same and you can open the `data descriptor` file for Sentinel-5P [here](./s5P_data_descriptor.json)."
   ]
  },
  {
   "cell_type": "markdown",
   "metadata": {},
   "source": [
    "### <a id='wekeo_hda_auth'></a>4. Configure the WEkEO API Authentication"
   ]
  },
  {
   "cell_type": "markdown",
   "metadata": {},
   "source": [
    "### <a id='wekeo_hda_auth'></a>4. Configure the WEkEO API Authentication"
   ]
  },
  {
   "cell_type": "markdown",
   "metadata": {},
   "source": [
    "As a first step, make sure to register via the the [WEkEO registration page](https://my.wekeo.eu/web/guest/user-registration)."
   ]
  },
  {
   "cell_type": "markdown",
   "metadata": {},
   "source": [
    "In the next step, you can use your username and password and set your credentials. The HDA client requires your authentication to WEkEO. You can set your credentials with the function `hda.Configuration()`."
   ]
  },
  {
   "cell_type": "code",
   "execution_count": 4,
   "metadata": {
    "tags": []
   },
   "outputs": [],
   "source": [
    "c = hda.Client(hda.Configuration(url=\"https://wekeo-broker.apps.mercator.dpi.wekeo.eu/databroker\",\n",
    "                                 user=\"jwagemann\",\n",
    "                                 password=\"91db7389e023\"))"
   ]
  },
  {
   "cell_type": "code",
   "execution_count": null,
   "metadata": {},
   "outputs": [],
   "source": [
    "c = hda.Client(hda.Configuration(url=\"https://wekeo-broker.apps.mercator.dpi.wekeo.eu/databroker\",\n",
    "                                 user=\"#################\",\n",
    "                                 password=\"###############\"))"
   ]
  },
  {
   "cell_type": "markdown",
   "metadata": {},
   "source": [
    "### <a id='wekeo_json'></a>5. Load data descriptor file and request data"
   ]
  },
  {
   "cell_type": "markdown",
   "metadata": {},
   "source": [
    "The Harmonised Data Access API can read your data request from a `JSON` file. In this JSON-based file, you can describe the dataset you are interested in downloading. The file is in principle a dictionary. The following keys can be defined:\n",
    "- `datasetID`: the dataset's collection ID\n",
    "- `stringChoiceValues`: type of dataset, e.g. 'processing level' or 'product type'\n",
    "- `dataRangeSelectValues`: time period you would like to retrieve data\n",
    "- `boundingBoxValues`: optional to define a subset of a global field\n",
    "\n",
    "You can load the `JSON` file with `json.load()`."
   ]
  },
  {
   "cell_type": "code",
   "execution_count": 32,
   "metadata": {},
   "outputs": [
    {
     "data": {
      "text/plain": [
       "{'datasetId': 'EO:ESA:DAT:SENTINEL-5P:TROPOMI',\n",
       " 'boundingBoxValues': [{'name': 'bbox', 'bbox': [-24.32, 30, 45, 71.56]}],\n",
       " 'dateRangeSelectValues': [{'name': 'position',\n",
       "   'start': '2021-02-05T10:00:00.000Z',\n",
       "   'end': '2021-02-05T12:00:00.000Z'}],\n",
       " 'stringChoiceValues': [{'name': 'processingLevel', 'value': 'L2'},\n",
       "  {'name': 'productType', 'value': 'L2__NO2___'}]}"
      ]
     },
     "execution_count": 32,
     "metadata": {},
     "output_type": "execute_result"
    }
   ],
   "source": [
    "with open('./s5p_data_descriptor.json', 'r') as f:\n",
    "    data = json.load(f)\n",
    "data"
   ]
  },
  {
   "cell_type": "markdown",
   "metadata": {},
   "source": [
    "### <a id='wekeo_download'></a>6. Download requested data"
   ]
  },
  {
   "cell_type": "markdown",
   "metadata": {},
   "source": [
    "As a final step, you can use directly the client `c` to first search for available datasets with the function `search`."
   ]
  },
  {
   "cell_type": "code",
   "execution_count": 33,
   "metadata": {},
   "outputs": [
    {
     "name": "stdout",
     "output_type": "stream",
     "text": [
      "SearchResults[items=6,volume=0,jobId=RcmhFSVPwfCGoIPpHPSUUcj2i4g]\n"
     ]
    }
   ],
   "source": [
    "matches = c.search(data)\n",
    "print(matches)"
   ]
  },
  {
   "cell_type": "markdown",
   "metadata": {},
   "source": [
    "The dataset search above resulted in five datasets found. You can download the datasets with the function `download`. You can also specify a folder in which the datasets shall be downloaded to."
   ]
  },
  {
   "cell_type": "code",
   "execution_count": 34,
   "metadata": {},
   "outputs": [
    {
     "name": "stderr",
     "output_type": "stream",
     "text": [
      "\n",
      "  0%|          | 0.00/43.9M [00:00<?, ?B/s]\u001b[A\n",
      "  0%|          | 37.0k/43.9M [00:00<02:01, 377kB/s]\u001b[A\n",
      "  0%|          | 158k/43.9M [00:00<00:53, 861kB/s] \u001b[A\n",
      "  5%|▍         | 2.01M/43.9M [00:00<00:04, 9.24MB/s]\u001b[A\n",
      " 10%|▉         | 4.39M/43.9M [00:00<00:02, 15.4MB/s]\u001b[A\n",
      " 15%|█▌        | 6.60M/43.9M [00:00<00:02, 18.2MB/s]\u001b[A\n",
      " 20%|█▉        | 8.65M/43.9M [00:00<00:01, 19.3MB/s]\u001b[A\n",
      " 24%|██▍       | 10.6M/43.9M [00:00<00:01, 19.5MB/s]\u001b[A\n",
      " 28%|██▊       | 12.4M/43.9M [00:00<00:01, 19.6MB/s]\u001b[A\n",
      " 33%|███▎      | 14.4M/43.9M [00:00<00:01, 19.8MB/s]\u001b[A\n",
      " 37%|███▋      | 16.3M/43.9M [00:01<00:01, 20.0MB/s]\u001b[A\n",
      " 42%|████▏     | 18.3M/43.9M [00:01<00:01, 20.1MB/s]\u001b[A\n",
      " 46%|████▌     | 20.2M/43.9M [00:01<00:01, 20.0MB/s]\u001b[A\n",
      " 50%|█████     | 22.2M/43.9M [00:01<00:01, 20.2MB/s]\u001b[A\n",
      " 55%|█████▍    | 24.1M/43.9M [00:01<00:01, 20.3MB/s]\u001b[A\n",
      " 60%|█████▉    | 26.1M/43.9M [00:01<00:00, 20.6MB/s]\u001b[A\n",
      " 64%|██████▍   | 28.3M/43.9M [00:01<00:00, 21.2MB/s]\u001b[A\n",
      " 69%|██████▉   | 30.4M/43.9M [00:01<00:00, 21.5MB/s]\u001b[A\n",
      " 74%|███████▍  | 32.5M/43.9M [00:01<00:00, 21.3MB/s]\u001b[A\n",
      " 79%|███████▊  | 34.5M/43.9M [00:01<00:00, 20.7MB/s]\u001b[A\n",
      " 86%|████████▌ | 37.7M/43.9M [00:02<00:00, 24.5MB/s]\u001b[A\n",
      " 91%|█████████▏| 40.1M/43.9M [00:02<00:00, 23.7MB/s]\u001b[A\n",
      "                                                    \u001b[A\n",
      "100%|█████████▉| 47.3M/47.4M [00:02<00:00, 23.9MB/s]\u001b[A\n",
      "                                                    \u001b[A\n",
      "  0%|          | 0.00/3.11M [00:00<?, ?B/s]\u001b[A\n",
      "  0%|          | 0.00/29.5M [00:00<?, ?B/s]838kB/s]\u001b[A\n",
      " 23%|██▎       | 733k/3.11M [00:00<00:00, 4.02MB/s]\u001b[A\n",
      "                                                    [A\n",
      "  0%|          | 0.00/46.2M [00:00<?, ?B/s]\u001b[A\n",
      "  0%|          | 93.0k/46.2M [00:00<00:52, 915kB/s]\u001b[A\n",
      "  1%|          | 554k/46.2M [00:00<00:15, 3.10MB/s]\u001b[A\n",
      " 12%|█▏        | 5.64M/46.2M [00:00<00:01, 25.8MB/s]\u001b[A\n",
      " 24%|██▍       | 11.3M/46.2M [00:00<00:00, 38.9MB/s]\u001b[A\n",
      " 36%|███▌      | 16.7M/46.2M [00:00<00:00, 45.2MB/s]\u001b[A\n",
      " 49%|████▊     | 22.4M/46.2M [00:00<00:00, 50.4MB/s]\u001b[A\n",
      "  0%|          | 0.00/46.6M [00:00<?, ?B/s]54.3MB/s]\u001b[A\n",
      "  0%|          | 1.00k/46.6M [00:00<1:38:23, 8.28kB/s]A\n",
      " 86%|████████▌ | 39.6M/46.2M [00:00<00:00, 56.6MB/s]\u001b[A\n",
      " 99%|█████████▊| 45.6M/46.2M [00:01<00:00, 58.6MB/s]\u001b[A\n",
      "                                                      A\r"
     ]
    }
   ],
   "source": [
    "matches.download('./data/')"
   ]
  },
  {
   "cell_type": "markdown",
   "metadata": {
    "heading_collapsed": "false"
   },
   "source": [
    "<br>"
   ]
  },
  {
   "cell_type": "markdown",
   "metadata": {},
   "source": [
    "Go to the next notebook ([11_Sentinel5P_L2_NO2_explore](./11_Sentinel5P_L2_NO2_explore.ipynb)) to see how you can load and visualise Sentinel-5P Level 2 Nitrogen Dioxide data."
   ]
  },
  {
   "cell_type": "markdown",
   "metadata": {
    "heading_collapsed": "false"
   },
   "source": [
    "<hr>"
   ]
  }
 ],
 "metadata": {
  "author": "Julia Wagemann",
  "description": "This notebook shows you how to retrieve Sentinel-5P TROPOMI Level 2 Nitrogen Dioxide data with the HDA API.",
  "github": "https://github.com/wekeo/wekeo4atmosphere/blob/main/air_quality/10_Sentinel5P_L2_NO2_retrieve.ipynb",
  "image": "../img/img_04.png",
  "kernelspec": {
   "display_name": "Python 3 (ipykernel)",
   "language": "python",
   "name": "python3"
  },
  "language_info": {
   "codemirror_mode": {
    "name": "ipython",
    "version": 3
   },
   "file_extension": ".py",
   "mimetype": "text/x-python",
   "name": "python",
   "nbconvert_exporter": "python",
   "pygments_lexer": "ipython3",
   "version": "3.8.15"
  },
  "link": "https://jupyterhub-wekeo.apps.eumetsat.dpi.wekeo.eu/hub/user-redirect/lab/tree/public/wekeo4atmosphere/air_quality/10_Sentinel5P_L2_NO2_retrieve.ipynb",
  "tags": {
   "domain": "Atmosphere",
   "platform": "Sentinel-5P",
   "sensor": "TROPOMI",
   "tags": "Total column nitrogen dioxide concentration"
  },
  "title": "Retrieve Sentinel-5P TROPOMI Level 2 Nitrogen Dioxide data"
 },
 "nbformat": 4,
 "nbformat_minor": 4
}
